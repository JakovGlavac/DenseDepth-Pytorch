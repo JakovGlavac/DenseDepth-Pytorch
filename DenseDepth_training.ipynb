{
  "cells": [
    {
      "cell_type": "markdown",
      "metadata": {
        "colab_type": "text",
        "id": "view-in-github"
      },
      "source": [
        "<a href=\"https://colab.research.google.com/github/pranjaldatta/DenseDepth-Pytorch/blob/master/DenseDepth_training.ipynb\" target=\"_parent\"><img src=\"https://colab.research.google.com/assets/colab-badge.svg\" alt=\"Open In Colab\"/></a>"
      ]
    },
    {
      "cell_type": "code",
      "execution_count": null,
      "metadata": {
        "colab": {},
        "colab_type": "code",
        "id": "uKwAx1CLhUBi"
      },
      "outputs": [],
      "source": [
        "# Cloning the Repository \n",
        "\n",
        "!git clone https://github.com/pranjaldatta/DenseDepth-Pytorch.git"
      ]
    },
    {
      "cell_type": "code",
      "execution_count": null,
      "metadata": {
        "colab": {},
        "colab_type": "code",
        "id": "Arc9mPZwh2N6"
      },
      "outputs": [],
      "source": [
        "# Getting the data \n",
        "!python DenseDepth-Pytorch/densedepth/download_data.py"
      ]
    },
    {
      "cell_type": "code",
      "execution_count": null,
      "metadata": {
        "colab": {},
        "colab_type": "code",
        "id": "ZVpEiIs5hBpM"
      },
      "outputs": [],
      "source": [
        "# Mounting drive\n",
        "from google.colab import drive\n",
        "drive.mount('/gdrive')\n",
        "\n",
        "\n",
        "!mkdir /gdrive/My\\ Drive/colabdrive/work/densedepth\n",
        "!mkdir /gdrive/My\\ Drive/colabdrive/work/densedepth/checkpoints\n"
      ]
    },
    {
      "cell_type": "code",
      "execution_count": 1,
      "metadata": {
        "colab": {},
        "colab_type": "code",
        "id": "-vR1s2EJk4-u"
      },
      "outputs": [
        {
          "name": "stdout",
          "output_type": "stream",
          "text": [
            "Requirement already satisfied: tensorboardX in c:\\users\\jakovglavac\\miniconda3\\envs\\densedepth_torch\\lib\\site-packages (2.6)\n",
            "Requirement already satisfied: numpy in c:\\users\\jakovglavac\\miniconda3\\envs\\densedepth_torch\\lib\\site-packages (from tensorboardX) (1.24.2)\n",
            "Requirement already satisfied: packaging in c:\\users\\jakovglavac\\appdata\\roaming\\python\\python38\\site-packages (from tensorboardX) (21.3)\n",
            "Requirement already satisfied: protobuf<4,>=3.8.0 in c:\\users\\jakovglavac\\miniconda3\\envs\\densedepth_torch\\lib\\site-packages (from tensorboardX) (3.20.3)\n",
            "Requirement already satisfied: pyparsing!=3.0.5,>=2.0.2 in c:\\users\\jakovglavac\\miniconda3\\envs\\densedepth_torch\\lib\\site-packages (from packaging->tensorboardX) (3.0.9)\n"
          ]
        }
      ],
      "source": [
        "!pip install tensorboardX"
      ]
    },
    {
      "cell_type": "code",
      "execution_count": 2,
      "metadata": {
        "colab": {},
        "colab_type": "code",
        "id": "7bIenkWV3zc8"
      },
      "outputs": [
        {
          "name": "stderr",
          "output_type": "stream",
          "text": [
            "'ln' is not recognized as an internal or external command,\n",
            "operable program or batch file.\n"
          ]
        },
        {
          "name": "stdout",
          "output_type": "stream",
          "text": [
            "Requirement already satisfied: gputil in c:\\users\\jakovglavac\\miniconda3\\envs\\densedepth_torch\\lib\\site-packages (1.4.0)\n",
            "Requirement already satisfied: psutil in c:\\users\\jakovglavac\\miniconda3\\envs\\densedepth_torch\\lib\\site-packages (5.9.4)\n",
            "Requirement already satisfied: humanize in c:\\users\\jakovglavac\\miniconda3\\envs\\densedepth_torch\\lib\\site-packages (4.6.0)\n",
            "Gen RAM Free: 3.0 GB  | Proc size: 72.8 MB\n",
            "GPU RAM Free: 4956MB | Used: 3054MB | Util  37% | Total 8192MB\n"
          ]
        }
      ],
      "source": [
        "# Prefer using Nvidia T4's or P100 for favourable training times\n",
        "\n",
        "\n",
        "# memory footprint support libraries/code\n",
        "!ln -sf /opt/bin/nvidia-smi /usr/bin/nvidia-smi\n",
        "!pip install gputil\n",
        "!pip install psutil\n",
        "!pip install humanize\n",
        "import psutil\n",
        "import humanize\n",
        "import os\n",
        "import GPUtil as GPU\n",
        "GPUs = GPU.getGPUs()\n",
        "# XXX: only one GPU on Colab and isn’t guaranteed\n",
        "gpu = GPUs[0]\n",
        "def printm():\n",
        " process = psutil.Process(os.getpid())\n",
        " print(\"Gen RAM Free: \" + humanize.naturalsize( psutil.virtual_memory().available ), \" | Proc size: \" + humanize.naturalsize( process.memory_info().rss))\n",
        " print(\"GPU RAM Free: {0:.0f}MB | Used: {1:.0f}MB | Util {2:3.0f}% | Total {3:.0f}MB\".format(gpu.memoryFree, gpu.memoryUsed, gpu.memoryUtil*100, gpu.memoryTotal))\n",
        "printm()"
      ]
    },
    {
      "cell_type": "code",
      "execution_count": 3,
      "metadata": {
        "colab": {},
        "colab_type": "code",
        "id": "8tcQU5Nj517I"
      },
      "outputs": [
        {
          "name": "stdout",
          "output_type": "stream",
          "text": [
            "Wed Mar 15 00:48:11 2023       \n",
            "+-----------------------------------------------------------------------------+\n",
            "| NVIDIA-SMI 516.94       Driver Version: 516.94       CUDA Version: 11.7     |\n",
            "|-------------------------------+----------------------+----------------------+\n",
            "| GPU  Name            TCC/WDDM | Bus-Id        Disp.A | Volatile Uncorr. ECC |\n",
            "| Fan  Temp  Perf  Pwr:Usage/Cap|         Memory-Usage | GPU-Util  Compute M. |\n",
            "|                               |                      |               MIG M. |\n",
            "|===============================+======================+======================|\n",
            "|   0  NVIDIA GeForce ... WDDM  | 00000000:01:00.0  On |                  N/A |\n",
            "| 35%   35C    P0    56W / 215W |   3078MiB /  8192MiB |     18%      Default |\n",
            "|                               |                      |                  N/A |\n",
            "+-------------------------------+----------------------+----------------------+\n",
            "                                                                               \n",
            "+-----------------------------------------------------------------------------+\n",
            "| Processes:                                                                  |\n",
            "|  GPU   GI   CI        PID   Type   Process name                  GPU Memory |\n",
            "|        ID   ID                                                   Usage      |\n",
            "|=============================================================================|\n",
            "|    0   N/A  N/A      1860    C+G   ...587.69\\msedgewebview2.exe    N/A      |\n",
            "|    0   N/A  N/A      2076    C+G   ...b3d8bbwe\\ScreenSketch.exe    N/A      |\n",
            "|    0   N/A  N/A      2432    C+G   ...ontend\\Docker Desktop.exe    N/A      |\n",
            "|    0   N/A  N/A      5636    C+G   ...me\\Application\\chrome.exe    N/A      |\n",
            "|    0   N/A  N/A      8336    C+G   ...4__8wekyb3d8bbwe\\Todo.exe    N/A      |\n",
            "|    0   N/A  N/A      9908    C+G   C:\\Windows\\explorer.exe         N/A      |\n",
            "|    0   N/A  N/A      9924    C+G   ...Docker\\Docker Desktop.exe    N/A      |\n",
            "|    0   N/A  N/A     11324    C+G   ...artMenuExperienceHost.exe    N/A      |\n",
            "|    0   N/A  N/A     11620    C+G   ...5n1h2txyewy\\SearchApp.exe    N/A      |\n",
            "|    0   N/A  N/A     13352    C+G   ...3d8bbwe\\CalculatorApp.exe    N/A      |\n",
            "|    0   N/A  N/A     14188    C+G   ...y\\ShellExperienceHost.exe    N/A      |\n",
            "|    0   N/A  N/A     15040    C+G   ...2txyewy\\TextInputHost.exe    N/A      |\n",
            "|    0   N/A  N/A     15260    C+G   ...cw5n1h2txyewy\\LockApp.exe    N/A      |\n",
            "|    0   N/A  N/A     15308    C+G   ...werToys.ColorPickerUI.exe    N/A      |\n",
            "|    0   N/A  N/A     15424    C+G   ...\\PowerToys.FancyZones.exe    N/A      |\n",
            "|    0   N/A  N/A     15832    C+G   ...werToys.PowerLauncher.exe    N/A      |\n",
            "|    0   N/A  N/A     16216    C+G   ...aming\\Spotify\\Spotify.exe    N/A      |\n",
            "|    0   N/A  N/A     16528    C+G   ...n64\\EpicGamesLauncher.exe    N/A      |\n",
            "|    0   N/A  N/A     16696    C+G   ...\\app-8.3.2\\TogglTrack.exe    N/A      |\n",
            "|    0   N/A  N/A     17000    C+G   ...s\\Win64\\EpicWebHelper.exe    N/A      |\n",
            "|    0   N/A  N/A     18640    C+G   ...p-3.2.0\\GitHubDesktop.exe    N/A      |\n",
            "|    0   N/A  N/A     19064    C+G   ...lPanel\\SystemSettings.exe    N/A      |\n",
            "|    0   N/A  N/A     22432    C+G   ...icrosoft VS Code\\Code.exe    N/A      |\n",
            "|    0   N/A  N/A     22584    C+G   ...t\\Teams\\current\\Teams.exe    N/A      |\n",
            "|    0   N/A  N/A     23136    C+G   ...\\app-1.0.9011\\Discord.exe    N/A      |\n",
            "|    0   N/A  N/A     25424    C+G   ...t\\Teams\\current\\Teams.exe    N/A      |\n",
            "|    0   N/A  N/A     26664    C+G   ... Desktop\\IPFS Desktop.exe    N/A      |\n",
            "|    0   N/A  N/A     27328    C+G   ...4bit\\obs-browser-page.exe    N/A      |\n",
            "|    0   N/A  N/A     29992    C+G   ...tudio\\bin\\64bit\\obs64.exe    N/A      |\n",
            "|    0   N/A  N/A     35316    C+G   ...bbwe\\Microsoft.Photos.exe    N/A      |\n",
            "|    0   N/A  N/A     35544    C+G   ...5n1h2txyewy\\SearchApp.exe    N/A      |\n",
            "|    0   N/A  N/A     36212    C+G   ...iginThinSetupInternal.exe    N/A      |\n",
            "|    0   N/A  N/A     36740    C+G   ...e\\root\\Office16\\EXCEL.EXE    N/A      |\n",
            "|    0   N/A  N/A     40976    C+G   ...\\app-1.0.9011\\Discord.exe    N/A      |\n",
            "|    0   N/A  N/A     41184    C+G   ...ge\\Application\\msedge.exe    N/A      |\n",
            "+-----------------------------------------------------------------------------+\n"
          ]
        }
      ],
      "source": [
        "!nvidia-smi"
      ]
    },
    {
      "cell_type": "code",
      "execution_count": 22,
      "metadata": {
        "colab": {},
        "colab_type": "code",
        "id": "O_iy8bYQj8lW"
      },
      "outputs": [
        {
          "name": "stdout",
          "output_type": "stream",
          "text": [
            "Loading Data ...\n",
            "Loading dataset zip file...Loaded (7005).\n",
            "Dataloaders ready ...\n",
            "Loading from checkpoint ...\n"
          ]
        },
        {
          "name": "stderr",
          "output_type": "stream",
          "text": [
            "Traceback (most recent call last):\n",
            "  File \"densedepth/train.py\", line 307, in <module>\n",
            "    main()\n",
            "  File \"densedepth/train.py\", line 109, in main\n",
            "    model, optimizer, start_epoch = init_or_load_model(\n",
            "  File \"c:\\Users\\JakovGlavac\\Documents\\GitHub\\DenseDepth-Pytorch\\densedepth\\utils.py\", line 78, in init_or_load_model\n",
            "    checkpoint = torch.load(ckpt)\n",
            "  File \"C:\\Users\\JakovGlavac\\miniconda3\\envs\\densedepth_torch\\lib\\site-packages\\torch\\serialization.py\", line 771, in load\n",
            "    with _open_file_like(f, 'rb') as opened_file:\n",
            "  File \"C:\\Users\\JakovGlavac\\miniconda3\\envs\\densedepth_torch\\lib\\site-packages\\torch\\serialization.py\", line 270, in _open_file_like\n",
            "    return _open_file(name_or_buffer, mode)\n",
            "  File \"C:\\Users\\JakovGlavac\\miniconda3\\envs\\densedepth_torch\\lib\\site-packages\\torch\\serialization.py\", line 251, in __init__\n",
            "    super(_open_file, self).__init__(open(name, mode))\n",
            "PermissionError: [Errno 13] Permission denied: './checkpoint/'\n"
          ]
        }
      ],
      "source": [
        "!python densedepth/train.py --epochs 10 \\\n",
        "                                              --data \"./data/nyu_data.zip\" \\\n",
        "                                              --batch 4 \\\n",
        "                                              --save \"./save/\" \\\n",
        "                                              --device \"cuda\" \\\n",
        "                                              --checkpoint \"./savec/\"\n",
        "\n"
      ]
    },
    {
      "cell_type": "code",
      "execution_count": 20,
      "metadata": {},
      "outputs": [
        {
          "name": "stdout",
          "output_type": "stream",
          "text": [
            "Collecting scikit-learn\n",
            "  Downloading scikit_learn-1.2.2-cp38-cp38-win_amd64.whl (8.3 MB)\n",
            "     ---------------------------------------- 8.3/8.3 MB 2.3 MB/s eta 0:00:00\n",
            "Collecting scipy\n",
            "  Using cached scipy-1.10.1-cp38-cp38-win_amd64.whl (42.2 MB)\n",
            "Requirement already satisfied: matplotlib in c:\\users\\jakovglavac\\miniconda3\\envs\\densedepth_torch\\lib\\site-packages (3.7.1)\n",
            "Requirement already satisfied: numpy>=1.17.3 in c:\\users\\jakovglavac\\miniconda3\\envs\\densedepth_torch\\lib\\site-packages (from scikit-learn) (1.24.2)\n",
            "Collecting joblib>=1.1.1\n",
            "  Using cached joblib-1.2.0-py3-none-any.whl (297 kB)\n",
            "Collecting threadpoolctl>=2.0.0\n",
            "  Using cached threadpoolctl-3.1.0-py3-none-any.whl (14 kB)\n",
            "Requirement already satisfied: pyparsing>=2.3.1 in c:\\users\\jakovglavac\\miniconda3\\envs\\densedepth_torch\\lib\\site-packages (from matplotlib) (3.0.9)\n",
            "Requirement already satisfied: importlib-resources>=3.2.0 in c:\\users\\jakovglavac\\miniconda3\\envs\\densedepth_torch\\lib\\site-packages (from matplotlib) (5.12.0)\n",
            "Requirement already satisfied: contourpy>=1.0.1 in c:\\users\\jakovglavac\\miniconda3\\envs\\densedepth_torch\\lib\\site-packages (from matplotlib) (1.0.7)\n",
            "Requirement already satisfied: fonttools>=4.22.0 in c:\\users\\jakovglavac\\miniconda3\\envs\\densedepth_torch\\lib\\site-packages (from matplotlib) (4.39.0)\n",
            "Requirement already satisfied: cycler>=0.10 in c:\\users\\jakovglavac\\miniconda3\\envs\\densedepth_torch\\lib\\site-packages (from matplotlib) (0.11.0)\n",
            "Requirement already satisfied: kiwisolver>=1.0.1 in c:\\users\\jakovglavac\\miniconda3\\envs\\densedepth_torch\\lib\\site-packages (from matplotlib) (1.4.4)\n",
            "Requirement already satisfied: pillow>=6.2.0 in c:\\users\\jakovglavac\\miniconda3\\envs\\densedepth_torch\\lib\\site-packages (from matplotlib) (9.4.0)\n",
            "Requirement already satisfied: packaging>=20.0 in c:\\users\\jakovglavac\\appdata\\roaming\\python\\python38\\site-packages (from matplotlib) (21.3)\n",
            "Requirement already satisfied: python-dateutil>=2.7 in c:\\users\\jakovglavac\\appdata\\roaming\\python\\python38\\site-packages (from matplotlib) (2.8.1)\n",
            "Requirement already satisfied: zipp>=3.1.0 in c:\\users\\jakovglavac\\miniconda3\\envs\\densedepth_torch\\lib\\site-packages (from importlib-resources>=3.2.0->matplotlib) (3.15.0)\n",
            "Requirement already satisfied: six>=1.5 in c:\\users\\jakovglavac\\appdata\\roaming\\python\\python38\\site-packages (from python-dateutil>=2.7->matplotlib) (1.15.0)\n",
            "Installing collected packages: threadpoolctl, scipy, joblib, scikit-learn\n",
            "Successfully installed joblib-1.2.0 scikit-learn-1.2.2 scipy-1.10.1 threadpoolctl-3.1.0\n"
          ]
        }
      ],
      "source": [
        "!pip install -U scikit-learn scipy matplotlib"
      ]
    },
    {
      "cell_type": "code",
      "execution_count": null,
      "metadata": {
        "colab": {},
        "colab_type": "code",
        "id": "9qyUbGhia5d6"
      },
      "outputs": [],
      "source": [
        "!python DenseDepth-Pytorch/densedepth/test.py --checkpoint \"<path to load weights from\" \\\n",
        "                                              --device \"cuda\" \\\n",
        "                                              --data \"DenseDepth-Pytorch/examples/\"\n",
        "                                              \n",
        "                                              "
      ]
    }
  ],
  "metadata": {
    "accelerator": "GPU",
    "colab": {
      "collapsed_sections": [],
      "include_colab_link": true,
      "name": "DenseDepth_training",
      "provenance": []
    },
    "kernelspec": {
      "display_name": "Python 3",
      "name": "python3"
    },
    "language_info": {
      "codemirror_mode": {
        "name": "ipython",
        "version": 3
      },
      "file_extension": ".py",
      "mimetype": "text/x-python",
      "name": "python",
      "nbconvert_exporter": "python",
      "pygments_lexer": "ipython3",
      "version": "3.8.16"
    }
  },
  "nbformat": 4,
  "nbformat_minor": 0
}
